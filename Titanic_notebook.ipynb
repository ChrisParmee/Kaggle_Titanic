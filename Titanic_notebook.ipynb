{
 "cells": [
  {
   "cell_type": "markdown",
   "id": "64cd27c2",
   "metadata": {},
   "source": [
    "### Code for Titanic Kaggle competition submission, based off notebooks for other submissions "
   ]
  },
  {
   "cell_type": "markdown",
   "id": "c261f497",
   "metadata": {},
   "source": [
    "###### - Import modules - #####"
   ]
  },
  {
   "cell_type": "code",
   "execution_count": 1,
   "id": "c52bf491",
   "metadata": {},
   "outputs": [],
   "source": [
    "import numpy as np      \n",
    "import pandas as pd     \n",
    "import random as rnd    \n",
    "import seaborn as sns   \n",
    "import sys\n",
    "import xgboost as xgb\n",
    "import matplotlib.pyplot as plt \n",
    "from myFunctions import myPrint # Import my own print function\n",
    "from sklearn.ensemble import RandomForestClassifier \n",
    "from sklearn.metrics import accuracy_score  "
   ]
  },
  {
   "cell_type": "code",
   "execution_count": 2,
   "id": "a3a6e44c",
   "metadata": {},
   "outputs": [],
   "source": [
    "def myPlot():\n",
    "    plt.show(block=False)\n",
    "    pause_time = 1\n",
    "    plt.pause(pause_time)\n",
    "    plt.close()"
   ]
  },
  {
   "cell_type": "markdown",
   "id": "59531492",
   "metadata": {},
   "source": [
    "#### - Import the data -"
   ]
  },
  {
   "cell_type": "code",
   "execution_count": 3,
   "id": "4324e051",
   "metadata": {},
   "outputs": [
    {
     "name": "stdout",
     "output_type": "stream",
     "text": [
      "   PassengerId  Survived  Pclass  \\\n",
      "0            1         0       3   \n",
      "1            2         1       1   \n",
      "2            3         1       3   \n",
      "3            4         1       1   \n",
      "4            5         0       3   \n",
      "\n",
      "                                                Name     Sex   Age  SibSp  \\\n",
      "0                            Braund, Mr. Owen Harris    male  22.0      1   \n",
      "1  Cumings, Mrs. John Bradley (Florence Briggs Th...  female  38.0      1   \n",
      "2                             Heikkinen, Miss. Laina  female  26.0      0   \n",
      "3       Futrelle, Mrs. Jacques Heath (Lily May Peel)  female  35.0      1   \n",
      "4                           Allen, Mr. William Henry    male  35.0      0   \n",
      "\n",
      "   Parch            Ticket     Fare Cabin Embarked  \n",
      "0      0         A/5 21171   7.2500   NaN        S  \n",
      "1      0          PC 17599  71.2833   C85        C  \n",
      "2      0  STON/O2. 3101282   7.9250   NaN        S  \n",
      "3      0            113803  53.1000  C123        S  \n",
      "4      0            373450   8.0500   NaN        S  \n"
     ]
    }
   ],
   "source": [
    "gender_submission = pd.read_csv(\"gender_submission.csv\")\n",
    "test = pd.read_csv(\"test.csv\")\n",
    "train = pd.read_csv(\"train.csv\")\n",
    "total = [train, test]\n",
    "\n",
    "myPrint(total[0].head(), hold=False)"
   ]
  },
  {
   "cell_type": "markdown",
   "id": "3a005ee6",
   "metadata": {},
   "source": [
    "#### Print the column values and last 10 data points for the training data"
   ]
  },
  {
   "cell_type": "code",
   "execution_count": 4,
   "id": "24600c92",
   "metadata": {},
   "outputs": [
    {
     "name": "stdout",
     "output_type": "stream",
     "text": [
      "____________________ Train Columns ____________________\n",
      "['PassengerId' 'Survived' 'Pclass' 'Name' 'Sex' 'Age' 'SibSp' 'Parch'\n",
      " 'Ticket' 'Fare' 'Cabin' 'Embarked']\n",
      "____________________ Train Tail ____________________\n",
      "     PassengerId  Survived  Pclass                                      Name  \\\n",
      "881          882         0       3                        Markun, Mr. Johann   \n",
      "882          883         0       3              Dahlberg, Miss. Gerda Ulrika   \n",
      "883          884         0       2             Banfield, Mr. Frederick James   \n",
      "884          885         0       3                    Sutehall, Mr. Henry Jr   \n",
      "885          886         0       3      Rice, Mrs. William (Margaret Norton)   \n",
      "886          887         0       2                     Montvila, Rev. Juozas   \n",
      "887          888         1       1              Graham, Miss. Margaret Edith   \n",
      "888          889         0       3  Johnston, Miss. Catherine Helen \"Carrie\"   \n",
      "889          890         1       1                     Behr, Mr. Karl Howell   \n",
      "890          891         0       3                       Dooley, Mr. Patrick   \n",
      "\n",
      "        Sex   Age  SibSp  Parch            Ticket     Fare Cabin Embarked  \n",
      "881    male  33.0      0      0            349257   7.8958   NaN        S  \n",
      "882  female  22.0      0      0              7552  10.5167   NaN        S  \n",
      "883    male  28.0      0      0  C.A./SOTON 34068  10.5000   NaN        S  \n",
      "884    male  25.0      0      0   SOTON/OQ 392076   7.0500   NaN        S  \n",
      "885  female  39.0      0      5            382652  29.1250   NaN        Q  \n",
      "886    male  27.0      0      0            211536  13.0000   NaN        S  \n",
      "887  female  19.0      0      0            112053  30.0000   B42        S  \n",
      "888  female   NaN      1      2        W./C. 6607  23.4500   NaN        S  \n",
      "889    male  26.0      0      0            111369  30.0000  C148        C  \n",
      "890    male  32.0      0      0            370376   7.7500   NaN        Q  \n"
     ]
    }
   ],
   "source": [
    "myPrint(train.columns.values, printmessage=\"Train Columns\", hold=False)\n",
    "myPrint(train.tail(10), printmessage=\"Train Tail\", hold=False)"
   ]
  },
  {
   "cell_type": "markdown",
   "id": "e4b186c3",
   "metadata": {},
   "source": [
    "#### Look at the distributions of numerical features"
   ]
  },
  {
   "cell_type": "code",
   "execution_count": 5,
   "id": "2c75b7ea",
   "metadata": {},
   "outputs": [
    {
     "name": "stdout",
     "output_type": "stream",
     "text": [
      "____________________ Distribution of features ____________________\n",
      "       PassengerId    Survived      Pclass         Age       SibSp  \\\n",
      "count   891.000000  891.000000  891.000000  714.000000  891.000000   \n",
      "mean    446.000000    0.383838    2.308642   29.699118    0.523008   \n",
      "std     257.353842    0.486592    0.836071   14.526497    1.102743   \n",
      "min       1.000000    0.000000    1.000000    0.420000    0.000000   \n",
      "25%     223.500000    0.000000    2.000000   20.125000    0.000000   \n",
      "50%     446.000000    0.000000    3.000000   28.000000    0.000000   \n",
      "75%     668.500000    1.000000    3.000000   38.000000    1.000000   \n",
      "max     891.000000    1.000000    3.000000   80.000000    8.000000   \n",
      "\n",
      "            Parch        Fare  \n",
      "count  891.000000  891.000000  \n",
      "mean     0.381594   32.204208  \n",
      "std      0.806057   49.693429  \n",
      "min      0.000000    0.000000  \n",
      "25%      0.000000    7.910400  \n",
      "50%      0.000000   14.454200  \n",
      "75%      0.000000   31.000000  \n",
      "max      6.000000  512.329200  \n"
     ]
    }
   ],
   "source": [
    "myPrint(train.describe(), printmessage=\"Distribution of features\", hold=False)"
   ]
  },
  {
   "cell_type": "markdown",
   "id": "252b25a7",
   "metadata": {},
   "source": [
    "#### Looks at distribution of categorical features (features that are in discrete groups) "
   ]
  },
  {
   "cell_type": "code",
   "execution_count": 6,
   "id": "4607279d",
   "metadata": {},
   "outputs": [
    {
     "name": "stdout",
     "output_type": "stream",
     "text": [
      "____________________ Distribution of categorical features ____________________\n",
      "                           Name   Sex  Ticket    Cabin Embarked\n",
      "count                       891   891     891      204      889\n",
      "unique                      891     2     681      147        3\n",
      "top     Braund, Mr. Owen Harris  male  347082  B96 B98        S\n",
      "freq                          1   577       7        4      644\n"
     ]
    }
   ],
   "source": [
    "myPrint(train.describe(include=['O']), printmessage=\"Distribution of categorical features\", hold=False)"
   ]
  },
  {
   "cell_type": "markdown",
   "id": "17394139",
   "metadata": {},
   "source": [
    "Analyse the train and test data for missing values\n",
    "Find Age, Cabin and Embarked features have missing values for train\n",
    "Find Age, Cabin and Fare features have missing value for the test set."
   ]
  },
  {
   "cell_type": "code",
   "execution_count": 7,
   "id": "996f77e6",
   "metadata": {},
   "outputs": [
    {
     "name": "stdout",
     "output_type": "stream",
     "text": [
      "<class 'pandas.core.frame.DataFrame'>\n",
      "RangeIndex: 891 entries, 0 to 890\n",
      "Data columns (total 12 columns):\n",
      " #   Column       Non-Null Count  Dtype  \n",
      "---  ------       --------------  -----  \n",
      " 0   PassengerId  891 non-null    int64  \n",
      " 1   Survived     891 non-null    int64  \n",
      " 2   Pclass       891 non-null    int64  \n",
      " 3   Name         891 non-null    object \n",
      " 4   Sex          891 non-null    object \n",
      " 5   Age          714 non-null    float64\n",
      " 6   SibSp        891 non-null    int64  \n",
      " 7   Parch        891 non-null    int64  \n",
      " 8   Ticket       891 non-null    object \n",
      " 9   Fare         891 non-null    float64\n",
      " 10  Cabin        204 non-null    object \n",
      " 11  Embarked     889 non-null    object \n",
      "dtypes: float64(2), int64(5), object(5)\n",
      "memory usage: 83.7+ KB\n",
      "____________________ Training Data ____________________\n",
      "None\n",
      "<class 'pandas.core.frame.DataFrame'>\n",
      "RangeIndex: 418 entries, 0 to 417\n",
      "Data columns (total 11 columns):\n",
      " #   Column       Non-Null Count  Dtype  \n",
      "---  ------       --------------  -----  \n",
      " 0   PassengerId  418 non-null    int64  \n",
      " 1   Pclass       418 non-null    int64  \n",
      " 2   Name         418 non-null    object \n",
      " 3   Sex          418 non-null    object \n",
      " 4   Age          332 non-null    float64\n",
      " 5   SibSp        418 non-null    int64  \n",
      " 6   Parch        418 non-null    int64  \n",
      " 7   Ticket       418 non-null    object \n",
      " 8   Fare         417 non-null    float64\n",
      " 9   Cabin        91 non-null     object \n",
      " 10  Embarked     418 non-null    object \n",
      "dtypes: float64(2), int64(4), object(5)\n",
      "memory usage: 36.0+ KB\n",
      "____________________ Test Data ____________________\n",
      "None\n"
     ]
    }
   ],
   "source": [
    "myPrint(train.info(), printmessage=\"Training Data\", hold=False)\n",
    "myPrint(test.info(), printmessage=\"Test Data\", hold=False)"
   ]
  },
  {
   "cell_type": "markdown",
   "id": "1bcbc6d8",
   "metadata": {},
   "source": [
    "### - Data analysis - ###\n",
    "\n",
    "Here I analyse the different features in the data and determine which ones correlate with survival. \n",
    "New features that are combinations of others which correlate with survival may be useful.\n",
    "Missing values should only be filled if they're useful and redundant data is dropped.\n",
    "All features need to be assigned numerical values in order to be used"
   ]
  },
  {
   "cell_type": "markdown",
   "id": "84d94ee9",
   "metadata": {},
   "source": [
    "#### Look at how passenger class (Pclass) correlates with survival"
   ]
  },
  {
   "cell_type": "code",
   "execution_count": 8,
   "id": "5c20c2b4",
   "metadata": {},
   "outputs": [
    {
     "name": "stdout",
     "output_type": "stream",
     "text": [
      "____________________ Correlation of class with survival ____________________\n",
      "   Pclass  Survived\n",
      "0       1  0.629630\n",
      "1       2  0.472826\n",
      "2       3  0.242363\n"
     ]
    }
   ],
   "source": [
    "myPrint(train[['Pclass', 'Survived']].groupby(['Pclass'], as_index=False).mean().sort_values(by='Survived', ascending=False),\n",
    "        printmessage=\"Correlation of class with survival\",\n",
    "        hold=False,)"
   ]
  },
  {
   "cell_type": "markdown",
   "id": "2ee44d28",
   "metadata": {},
   "source": [
    "#### Look at how passenger sex correlates with survival"
   ]
  },
  {
   "cell_type": "code",
   "execution_count": 9,
   "id": "291439ae",
   "metadata": {},
   "outputs": [
    {
     "name": "stdout",
     "output_type": "stream",
     "text": [
      "____________________ Correlation of sex with survival ____________________\n",
      "   Parch  Survived\n",
      "3      3  0.600000\n",
      "1      1  0.550847\n",
      "2      2  0.500000\n",
      "0      0  0.343658\n",
      "5      5  0.200000\n",
      "4      4  0.000000\n",
      "6      6  0.000000\n"
     ]
    }
   ],
   "source": [
    "myPrint(train[['Parch','Survived']].groupby(['Parch'], as_index=False).mean().sort_values(by='Survived', ascending=False),\n",
    "        printmessage=\"Correlation of sex with survival\",\n",
    "        hold=False,)"
   ]
  },
  {
   "cell_type": "markdown",
   "id": "7de10a0d",
   "metadata": {},
   "source": [
    "#### Look at how family size correlates with survival"
   ]
  },
  {
   "cell_type": "code",
   "execution_count": 10,
   "id": "91832bb6",
   "metadata": {},
   "outputs": [
    {
     "name": "stdout",
     "output_type": "stream",
     "text": [
      "____________________ Correlation of family size with survival ____________________\n",
      "   SibSp  Survived\n",
      "1      1  0.535885\n",
      "2      2  0.464286\n",
      "0      0  0.345395\n",
      "3      3  0.250000\n",
      "4      4  0.166667\n",
      "5      5  0.000000\n",
      "6      8  0.000000\n",
      "             Ticket\n",
      "0         A/5 21171\n",
      "1          PC 17599\n",
      "2  STON/O2. 3101282\n",
      "3            113803\n",
      "4            373450\n",
      "  Cabin\n",
      "0   NaN\n",
      "1   C85\n",
      "2   NaN\n",
      "3  C123\n",
      "4   NaN\n"
     ]
    }
   ],
   "source": [
    "myPrint(train[['SibSp', 'Survived']].groupby(['SibSp'], as_index=False).mean().sort_values(by='Survived', ascending=False),\n",
    "        printmessage=\"Correlation of family size with survival\",\n",
    "        hold=False,)\n",
    "\n",
    "myPrint(train[['Ticket']].head(), hold=False) \n",
    "myPrint(train[['Cabin']].head(), hold=False)"
   ]
  },
  {
   "cell_type": "markdown",
   "id": "fcc2e896",
   "metadata": {},
   "source": [
    "#### Split the ticket entry into the prefix (if any) and last number"
   ]
  },
  {
   "cell_type": "code",
   "execution_count": 11,
   "id": "ec9e0e8e",
   "metadata": {},
   "outputs": [
    {
     "name": "stdout",
     "output_type": "stream",
     "text": [
      "['PassengerId' 'Survived' 'Pclass' 'Name' 'Sex' 'Age' 'SibSp' 'Parch'\n",
      " 'Fare' 'Cabin' 'Embarked' 'TicketPrefix' 'TicketNumber']\n",
      "['PassengerId' 'Pclass' 'Name' 'Sex' 'Age' 'SibSp' 'Parch' 'Fare' 'Cabin'\n",
      " 'Embarked' 'TicketPrefix' 'TicketNumber']\n"
     ]
    }
   ],
   "source": [
    "for dataset in total:\n",
    "    df_x = dataset['Ticket'].str.extract(r\"(?P<TicketPrefix>\\S+ )?(?P<TicketNumber>\\d+)\")\n",
    "    dataset['TicketPrefix'] = df_x['TicketPrefix']\n",
    "    dataset['TicketNumber'] = df_x['TicketNumber']\n",
    "    ## Drop the Ticket option now no longer needed\n",
    "    dataset.drop([\"Ticket\"], inplace=True, axis=1)\n",
    "\n",
    "print(train.columns.values)\n",
    "print(test.columns.values)"
   ]
  },
  {
   "cell_type": "markdown",
   "id": "d3f46d85",
   "metadata": {},
   "source": [
    "#### Count different ticket numbers (should all be different) and ticket Prefixes"
   ]
  },
  {
   "cell_type": "code",
   "execution_count": 12,
   "id": "d05b000f",
   "metadata": {},
   "outputs": [
    {
     "name": "stdout",
     "output_type": "stream",
     "text": [
      "2          12\n",
      "1601        7\n",
      "2343        7\n",
      "347082      7\n",
      "3101295     6\n",
      "           ..\n",
      "19988       1\n",
      "2693        1\n",
      "17612       1\n",
      "349233      1\n",
      "370376      1\n",
      "Name: TicketNumber, Length: 667, dtype: int64\n",
      "PC             60\n",
      "C.A.           27\n",
      "STON/O         12\n",
      "A/5            10\n",
      "W./C.           9\n",
      "CA.             8\n",
      "SOTON/O.Q.      8\n",
      "A/5.            7\n",
      "SOTON/OQ        7\n",
      "STON/O2.        6\n",
      "CA              6\n",
      "F.C.C.          5\n",
      "C               5\n",
      "SC/PARIS        5\n",
      "S.O.C.          5\n",
      "SC/Paris        4\n",
      "A/4.            3\n",
      "S.O./P.P.       3\n",
      "PP              3\n",
      "A/4             3\n",
      "A.5.            2\n",
      "S.C./PARIS      2\n",
      "SOTON/O2        2\n",
      "P/PP            2\n",
      "SC/AH           2\n",
      "WE/P            2\n",
      "A./5.           2\n",
      "Basle           1\n",
      "SO/C            1\n",
      "S.W./PP         1\n",
      "F.C.            1\n",
      "A/S             1\n",
      "SW/PP           1\n",
      "SC              1\n",
      "SCO/W           1\n",
      "W/C             1\n",
      "Fa              1\n",
      "S.O.P.          1\n",
      "S.C./A.4.       1\n",
      "A4.             1\n",
      "S.P.            1\n",
      "W.E.P.          1\n",
      "C.A./SOTON      1\n",
      "Name: TicketPrefix, dtype: int64\n"
     ]
    }
   ],
   "source": [
    "myPrint(train['TicketNumber'].value_counts(), hold=False)\n",
    "myPrint(train['TicketPrefix'].value_counts(), hold=False)"
   ]
  },
  {
   "cell_type": "markdown",
   "id": "39ac450d",
   "metadata": {},
   "source": [
    "#### Look to see if any correlation between ticket number and ticket prefix and survival\n",
    "Ticket numbers all unique so remove"
   ]
  },
  {
   "cell_type": "code",
   "execution_count": 13,
   "id": "ae53aa35",
   "metadata": {},
   "outputs": [
    {
     "name": "stdout",
     "output_type": "stream",
     "text": [
      "____________________ Correlation of TicketNumber with survival ____________________\n",
      "    TicketNumber  Survived\n",
      "0          10482       1.0\n",
      "261        26360       1.0\n",
      "273         2663       1.0\n",
      "271         2661       1.0\n",
      "268         2653       1.0\n",
      "..           ...       ...\n",
      "352      3101307       0.0\n",
      "351      3101306       0.0\n",
      "350      3101305       0.0\n",
      "348      3101296       0.0\n",
      "333      3101264       0.0\n",
      "\n",
      "[667 rows x 2 columns]\n"
     ]
    }
   ],
   "source": [
    "myPrint(train[['TicketNumber', 'Survived']].groupby(['TicketNumber'], as_index=False).mean().sort_values(by='Survived', ascending=False),\n",
    "        printmessage=\"Correlation of TicketNumber with survival\",\n",
    "        hold=False,)"
   ]
  },
  {
   "cell_type": "code",
   "execution_count": 14,
   "id": "0ea07c08",
   "metadata": {},
   "outputs": [
    {
     "name": "stdout",
     "output_type": "stream",
     "text": [
      "____________________ Correlation of TicketPrefix with survival ____________________\n",
      "   TicketPrefix  Survived\n",
      "38       SW/PP   1.000000\n",
      "32        SO/C   1.000000\n",
      "27          SC   1.000000\n",
      "8        Basle   1.000000\n",
      "26     S.W./PP   1.000000\n",
      "15      F.C.C.   0.800000\n",
      "19          PP   0.666667\n",
      "18          PC   0.650000\n",
      "21  S.C./PARIS   0.500000\n",
      "37    STON/O2.   0.500000\n",
      "30    SC/Paris   0.500000\n",
      "28       SC/AH   0.500000\n",
      "17        P/PP   0.500000\n",
      "42        WE/P   0.500000\n",
      "10        C.A.   0.481481\n",
      "36      STON/O   0.416667\n",
      "29    SC/PARIS   0.400000\n",
      "9            C   0.400000\n",
      "35    SOTON/OQ   0.142857\n",
      "5         A/5.   0.142857\n",
      "33  SOTON/O.Q.   0.125000\n",
      "13         CA.   0.125000\n",
      "39       W./C.   0.111111\n",
      "4          A/5   0.100000\n",
      "2          A/4   0.000000\n",
      "3         A/4.   0.000000\n",
      "31       SCO/W   0.000000\n",
      "34    SOTON/O2   0.000000\n",
      "40      W.E.P.   0.000000\n",
      "41         W/C   0.000000\n",
      "14        F.C.   0.000000\n",
      "6          A/S   0.000000\n",
      "7          A4.   0.000000\n",
      "25        S.P.   0.000000\n",
      "24      S.O.P.   0.000000\n",
      "23      S.O.C.   0.000000\n",
      "22   S.O./P.P.   0.000000\n",
      "1         A.5.   0.000000\n",
      "20   S.C./A.4.   0.000000\n",
      "11  C.A./SOTON   0.000000\n",
      "12          CA   0.000000\n",
      "16          Fa   0.000000\n",
      "0        A./5.   0.000000\n"
     ]
    }
   ],
   "source": [
    "myPrint(train[['TicketPrefix', 'Survived']].groupby(['TicketPrefix'], as_index=False).mean().sort_values(by='Survived', ascending=False),\n",
    "        printmessage=\"Correlation of TicketPrefix with survival\",\n",
    "        hold=False,)"
   ]
  },
  {
   "cell_type": "code",
   "execution_count": 15,
   "id": "6bf51c33",
   "metadata": {},
   "outputs": [],
   "source": [
    "## Split the cabin entries into the first letter and last number. \n",
    "for dataset in total:\n",
    "    df_x = dataset[\"Cabin\"].str.extract(r\"(?P<CabinPrefix>[a-zA-Z])?(?P<CabinNumber>\\d+)\")\n",
    "    dataset['CabinPrefix'] = df_x['CabinPrefix']\n",
    "    dataset['CabinNumber'] = df_x['CabinNumber']\n",
    "    ## Drop the Cabin option now no longer needed\n",
    "    dataset.drop([\"Cabin\"], inplace=True, axis=1)"
   ]
  },
  {
   "cell_type": "code",
   "execution_count": 16,
   "id": "13464a8b",
   "metadata": {},
   "outputs": [
    {
     "name": "stdout",
     "output_type": "stream",
     "text": [
      "33     7\n",
      "6      6\n",
      "101    5\n",
      "22     5\n",
      "20     5\n",
      "      ..\n",
      "111    1\n",
      "21     1\n",
      "12     1\n",
      "14     1\n",
      "148    1\n",
      "Name: CabinNumber, Length: 92, dtype: int64\n",
      "C    59\n",
      "B    47\n",
      "E    33\n",
      "D    30\n",
      "A    15\n",
      "F     9\n",
      "G     7\n",
      "Name: CabinPrefix, dtype: int64\n"
     ]
    }
   ],
   "source": [
    "## Look at individual cabin numbers and prefixes.\n",
    "## Most cabin entries are NaN so unlikely to useful as a feature however.\n",
    "myPrint(train['CabinNumber'].value_counts(), hold=False)\n",
    "myPrint(train['CabinPrefix'].value_counts(), hold=False)"
   ]
  },
  {
   "cell_type": "code",
   "execution_count": 17,
   "id": "ce300587",
   "metadata": {},
   "outputs": [
    {
     "name": "stdout",
     "output_type": "stream",
     "text": [
      "____________________ Correlation of CabinNumber with survival ____________________\n",
      "   CabinNumber  Survived\n",
      "46          41       1.0\n",
      "30          25       1.0\n",
      "33           3       1.0\n",
      "37          33       1.0\n",
      "38          34       1.0\n",
      "..         ...       ...\n",
      "9          118       0.0\n",
      "17          14       0.0\n",
      "16         128       0.0\n",
      "13         124       0.0\n",
      "81          86       0.0\n",
      "\n",
      "[92 rows x 2 columns]\n"
     ]
    }
   ],
   "source": [
    "## Look to see if any correlation between cabin number and prefix and survival. \n",
    "myPrint(train[['CabinNumber', 'Survived']].groupby(['CabinNumber'], as_index=False).mean().sort_values(by='Survived', ascending=False),\n",
    "        printmessage=\"Correlation of CabinNumber with survival\",\n",
    "        hold=False,)"
   ]
  },
  {
   "cell_type": "code",
   "execution_count": 18,
   "id": "5f7b5e1f",
   "metadata": {},
   "outputs": [
    {
     "name": "stdout",
     "output_type": "stream",
     "text": [
      "____________________ Correlation of CabinPrefix with survival ____________________\n",
      "  CabinPrefix  Survived\n",
      "5           F  0.777778\n",
      "3           D  0.766667\n",
      "4           E  0.757576\n",
      "1           B  0.744681\n",
      "2           C  0.593220\n",
      "0           A  0.466667\n",
      "6           G  0.285714\n"
     ]
    }
   ],
   "source": [
    "myPrint(train[['CabinPrefix', 'Survived']].groupby(['CabinPrefix'], as_index=False).mean().sort_values(by='Survived', ascending=False),\n",
    "        printmessage=\"Correlation of CabinPrefix with survival\",\n",
    "        hold=False,)"
   ]
  },
  {
   "cell_type": "markdown",
   "id": "877588d5",
   "metadata": {},
   "source": [
    "### - Checking assumptions - \n",
    "\n",
    "Key assumptions -  If sex = female, more likely to survive. \n",
    "If Pclass = 1, then most likely to survive, followed by 2,3. \n",
    "People in large families or alone most likely died."
   ]
  },
  {
   "cell_type": "markdown",
   "id": "cda67624",
   "metadata": {},
   "source": [
    "#### First analyse age and survival for all passengers\n",
    "Can conclude that young children more likely to survive"
   ]
  },
  {
   "cell_type": "code",
   "execution_count": 19,
   "id": "427ddd0c",
   "metadata": {},
   "outputs": [
    {
     "data": {
      "image/png": "[encoded data removed]",
      "text/plain": [
       "<Figure size 720x360 with 2 Axes>"
      ]
     },
     "metadata": {
      "needs_background": "light"
     },
     "output_type": "display_data"
    }
   ],
   "source": [
    "histogramAge = sns.FacetGrid(train, col='Survived', height=5) # create instance of FacetGrid\n",
    "histogramAge.map(plt.hist, 'Age', bins=20) # map the grid to a plot in pyplot\n",
    "histogramAge.fig.subplots_adjust(top=0.9)\n",
    "histogramAge.fig.suptitle(\"Age vs survival for all passengers\")\n",
    "myPlot()"
   ]
  },
  {
   "cell_type": "markdown",
   "id": "417e6dd4",
   "metadata": {},
   "source": [
    "#### Analyse survival of passengers for each class\n",
    "Can see you're more likely to not have survived if Pclass = 3 and more likely to survive if Pclass = 1"
   ]
  },
  {
   "cell_type": "code",
   "execution_count": 20,
   "id": "8dc76256",
   "metadata": {},
   "outputs": [
    {
     "data": {
      "image/png": "[encoded data removed]",
      "text/plain": [
       "<Figure size 699.2x648 with 6 Axes>"
      ]
     },
     "metadata": {
      "needs_background": "light"
     },
     "output_type": "display_data"
    }
   ],
   "source": [
    "histogramPclassAge = sns.FacetGrid(train, col='Survived', row='Pclass', height=3, aspect=1.6)\n",
    "histogramPclassAge.map(plt.hist, 'Age', alpha = 0.5, bins = 20)\n",
    "histogramPclassAge.add_legend()\n",
    "histogramPclassAge.fig.subplots_adjust(top=0.9)\n",
    "histogramPclassAge.fig.suptitle(\"Age vs survival for each class\")\n",
    "myPlot()"
   ]
  },
  {
   "cell_type": "markdown",
   "id": "eb945bf1",
   "metadata": {},
   "source": [
    "### Analyse passenger sex and age\n",
    "Conclude that you were much less likely to survive as a young male and more likely to survive as a woman "
   ]
  },
  {
   "cell_type": "code",
   "execution_count": 21,
   "id": "9cf89a3b",
   "metadata": {},
   "outputs": [
    {
     "data": {
      "image/png": "[encoded data removed]",
      "text/plain": [
       "<Figure size 699.2x432 with 4 Axes>"
      ]
     },
     "metadata": {
      "needs_background": "light"
     },
     "output_type": "display_data"
    }
   ],
   "source": [
    "histogramPclassAge = sns.FacetGrid(train, col = 'Survived', row = 'Sex', height = 3, aspect = 1.6)\n",
    "histogramPclassAge.map(plt.hist, 'Age', alpha = 0.5, bins = 20)\n",
    "histogramPclassAge.add_legend()\n",
    "histogramPclassAge.fig.subplots_adjust(top=0.9)\n",
    "histogramPclassAge.fig.suptitle(\"Age vs survival for each sex\")\n",
    "myPlot()"
   ]
  },
  {
   "cell_type": "markdown",
   "id": "a5098fb0",
   "metadata": {},
   "source": [
    "#### Analyse Embarking point and survival\n",
    "\n",
    "Instead of a bar chart, look at a pointplot which shows the mean value with an error bar. \n",
    "Find that females more likely to survive if boarding at S and Q ports, males at C port.\n",
    "For Pclass = 3, survival of male and females closer than other classes.\n",
    "Note that in the plot, have some data with only a few points, e.g, only two females (both survived) and one male (died) boarded at Q from Pclass = 2, and one male (died) and female (survived) from Pclass = 1."
   ]
  },
  {
   "cell_type": "code",
   "execution_count": 22,
   "id": "2516f3a6",
   "metadata": {},
   "outputs": [
    {
     "name": "stdout",
     "output_type": "stream",
     "text": [
      "____________________ Pclass2, Male, C ____________________\n",
      "      Sex  Survived  Pclass Embarked\n",
      "122  male         0       2        C\n",
      "135  male         0       2        C\n",
      "181  male         0       2        C\n",
      "292  male         0       2        C\n",
      "308  male         0       2        C\n",
      "361  male         0       2        C\n",
      "547  male         1       2        C\n",
      "685  male         0       2        C\n",
      "817  male         0       2        C\n",
      "827  male         1       2        C\n",
      "Press any button to continue.\n",
      "        Sex  Survived  Pclass Embarked\n",
      "9    female         1       2        C\n",
      "43   female         1       2        C\n",
      "389  female         1       2        C\n",
      "473  female         1       2        C\n",
      "608  female         1       2        C\n",
      "866  female         1       2        C\n",
      "874  female         1       2        CPclass2, Female, C\n",
      "Press any button to continue.\n",
      "      Sex  Survived  Pclass Embarked\n",
      "30   male         0       1        C\n",
      "34   male         0       1        C\n",
      "54   male         0       1        C\n",
      "64   male         0       1        C\n",
      "96   male         0       1        C\n",
      "97   male         1       1        C\n",
      "118  male         0       1        C\n",
      "139  male         0       1        C\n",
      "155  male         0       1        C\n",
      "174  male         0       1        C\n",
      "209  male         1       1        C\n",
      "273  male         0       1        C\n",
      "295  male         0       1        C\n",
      "370  male         1       1        C\n",
      "373  male         0       1        C\n",
      "377  male         0       1        C\n",
      "452  male         0       1        C\n",
      "453  male         1       1        C\n",
      "484  male         1       1        C\n",
      "487  male         0       1        CPclass1, Male, C\n",
      "Press any button to continue.\n",
      "        Sex  Survived  Pclass Embarked\n",
      "1    female         1       1        C\n",
      "31   female         1       1        C\n",
      "52   female         1       1        C\n",
      "177  female         0       1        C\n",
      "194  female         1       1        C\n",
      "195  female         1       1        C\n",
      "215  female         1       1        C\n",
      "218  female         1       1        C\n",
      "256  female         1       1        C\n",
      "258  female         1       1        CPclass1, Female, C\n",
      "Press any button to continue.\n",
      "      Sex  Survived  Pclass Embarked\n",
      "26   male         0       3        C\n",
      "36   male         1       3        C\n",
      "42   male         0       3        C\n",
      "48   male         0       3        C\n",
      "57   male         0       3        C\n",
      "60   male         0       3        C\n",
      "65   male         1       3        C\n",
      "73   male         0       3        C\n",
      "125  male         1       3        C\n",
      "130  male         0       3        C\n",
      "203  male         0       3        C\n",
      "207  male         1       3        C\n",
      "244  male         0       3        C\n",
      "285  male         0       3        C\n",
      "296  male         0       3        C\n",
      "352  male         0       3        C\n",
      "354  male         0       3        C\n",
      "378  male         0       3        C\n",
      "420  male         0       3        C\n",
      "455  male         1       3        CPclass3, Male, C\n",
      "Press any button to continue.\n",
      "        Sex  Survived  Pclass Embarked\n",
      "19   female         1       3        C\n",
      "39   female         1       3        C\n",
      "111  female         0       3        C\n",
      "114  female         0       3        C\n",
      "128  female         1       3        C\n",
      "140  female         0       3        C\n",
      "240  female         0       3        C\n",
      "255  female         1       3        C\n",
      "362  female         0       3        C\n",
      "367  female         1       3        CPclass3, Female, C\n",
      "Press any button to continue.\n"
     ]
    }
   ],
   "source": [
    "## Below looking at issue with swapped colours in seaborn plot\n",
    "myPrint(train[(train['Embarked'] == 'C') & (train['Sex'] == 'male') & (train['Pclass'] == 2)][['Sex', 'Survived', 'Pclass', 'Embarked']].head(20), printmessage=\"Pclass2, Male, C\")\n",
    "myPrint(train[(train['Embarked'] == 'C') & (train['Sex'] == 'female') & (train['Pclass'] == 2)][['Sex', 'Survived', 'Pclass', 'Embarked']].head(10), \"Pclass2, Female, C\")\n",
    "\n",
    "myPrint(train[(train['Embarked'] == 'C') & (train['Sex'] == 'male') & (train['Pclass'] == 1)][['Sex', 'Survived', 'Pclass', 'Embarked']].head(20), \"Pclass1, Male, C\")\n",
    "myPrint(train[(train['Embarked'] == 'C') & (train['Sex'] == 'female') & (train['Pclass'] == 1)][['Sex', 'Survived', 'Pclass', 'Embarked']].head(10), \"Pclass1, Female, C\")\n",
    "\n",
    "myPrint(train[(train['Embarked'] == 'C') & (train['Sex'] == 'male') & (train['Pclass'] == 3)][['Sex', 'Survived', 'Pclass', 'Embarked']].head(20), \"Pclass3, Male, C\")\n",
    "myPrint(train[(train['Embarked'] == 'C') & (train['Sex'] == 'female') & (train['Pclass'] == 3)][['Sex', 'Survived', 'Pclass', 'Embarked']].head(10), \"Pclass3, Female, C\")"
   ]
  },
  {
   "cell_type": "code",
   "execution_count": 23,
   "id": "49c3ea26",
   "metadata": {},
   "outputs": [
    {
     "data": {
      "image/png": "[encoded data removed]",
      "text/plain": [
       "<Figure size 323.94x475.2 with 3 Axes>"
      ]
     },
     "metadata": {
      "needs_background": "light"
     },
     "output_type": "display_data"
    },
    {
     "name": "stdout",
     "output_type": "stream",
     "text": [
      "Empty DataFrame\n",
      "Columns: [PassengerId, Survived, Pclass, Name, Sex, Age, SibSp, Parch, Fare, Embarked, TicketPrefix, TicketNumber, CabinPrefix, CabinNumber]\n",
      "Index: []\n"
     ]
    }
   ],
   "source": [
    "lineplotEmbarkedPclass = sns.FacetGrid(train, row = 'Embarked', height = 2.2, aspect = 1.6)\n",
    "lineplotEmbarkedPclass.map(sns.pointplot, 'Pclass', 'Survived', 'Sex', palette = 'deep', split=True, order=[1,2,3], hue_order=['female','male'])\n",
    "lineplotEmbarkedPclass.add_legend()\n",
    "lineplotEmbarkedPclass.fig.subplots_adjust(top=0.9)\n",
    "lineplotEmbarkedPclass.fig.suptitle(\"Embarking point and survival\")\n",
    "myPlot()\n",
    "\n",
    "#dataset[(dataset['Sex'] == i) & (dataset['Pclass'] == j + 1)]['Age']\n",
    "myPrint(train[(train['Embarked'] == 'C') & train['Sex'] == 'Male'].head(), hold=False)"
   ]
  },
  {
   "cell_type": "markdown",
   "id": "1e346472",
   "metadata": {},
   "source": [
    "#### Analyse Fare vs Embarkment and Fare vs Sex\n",
    "Find that those who embarked at Q paid a lower fare and had equal liklihood of suriviving and not surviving.\n",
    "Those who embarked at C and S were more likely to survive if their fare was higher."
   ]
  },
  {
   "cell_type": "code",
   "execution_count": 24,
   "id": "77c9eab6",
   "metadata": {},
   "outputs": [
    {
     "data": {
      "image/png": "[encoded data removed]",
      "text/plain": [
       "<Figure size 691.2x648 with 6 Axes>"
      ]
     },
     "metadata": {
      "needs_background": "light"
     },
     "output_type": "display_data"
    }
   ],
   "source": [
    "histogramFareEmbarkSex = sns.FacetGrid(train, row = 'Embarked', col = 'Survived', height = 3, aspect = 1.6)\n",
    "histogramFareEmbarkSex.map(sns.barplot, 'Sex', 'Fare', alpha = 0.5, ci = None, order=['female','male'])\n",
    "histogramFareEmbarkSex.fig.subplots_adjust(top=0.9)\n",
    "plt.suptitle(\"Fare vs Embarkment and Fare vs Sex\")\n",
    "myPlot()"
   ]
  },
  {
   "cell_type": "markdown",
   "id": "8e5769a6",
   "metadata": {},
   "source": [
    "### - Feature engineering - "
   ]
  },
  {
   "cell_type": "markdown",
   "id": "e05a2276",
   "metadata": {},
   "source": [
    "#### First we drop the ticket and cabin features as these aren't useful\n",
    "The cabin features aren't useful because there are so many missing entries.\n",
    "The ticket feature we found didn't correlate with survival."
   ]
  },
  {
   "cell_type": "code",
   "execution_count": 25,
   "id": "7c85290d",
   "metadata": {},
   "outputs": [],
   "source": [
    "newtotal = list(map(lambda x: x.drop(['TicketPrefix', 'TicketNumber','CabinPrefix', 'CabinNumber'], axis = 1), total))"
   ]
  },
  {
   "cell_type": "markdown",
   "id": "1a6d45d6",
   "metadata": {},
   "source": [
    "#### Create 'Title' feature from the names and titles"
   ]
  },
  {
   "cell_type": "code",
   "execution_count": 26,
   "id": "08455e30",
   "metadata": {},
   "outputs": [
    {
     "name": "stdout",
     "output_type": "stream",
     "text": [
      "Sex       female  male\n",
      "Title                 \n",
      "Capt           0     1\n",
      "Col            0     2\n",
      "Countess       1     0\n",
      "Don            0     1\n",
      "Dr             1     6\n",
      "Jonkheer       0     1\n",
      "Lady           1     0\n",
      "Major          0     2\n",
      "Master         0    40\n",
      "Miss         182     0\n",
      "Mlle           2     0\n",
      "Mme            1     0\n",
      "Mr             0   517\n",
      "Mrs          125     0\n",
      "Ms             1     0\n",
      "Rev            0     6\n",
      "Sir            0     1\n"
     ]
    }
   ],
   "source": [
    "## First extract the titles\n",
    "for dataset in newtotal:\n",
    "    dataset['Title'] = dataset.Name.str.extract(' ([A-Za-z]+)\\.', expand = False)\n",
    "myPrint(pd.crosstab(newtotal[0]['Title'], newtotal[0]['Sex']), hold=False)"
   ]
  },
  {
   "cell_type": "code",
   "execution_count": 27,
   "id": "02e9f6c8",
   "metadata": {},
   "outputs": [],
   "source": [
    "## Take rare title and combine into one category. Also replace Ms with Miss and Mme with Mrs\n",
    "for dataset in newtotal:\n",
    "    dataset['Title'] = dataset['Title'].replace(['Lady','Countess','Capt','Col','Don','Dr','Major','Rev','Sir','Jonkheer','Dona'], 'Rare')\n",
    "    dataset['Title'] = dataset['Title'].replace('Ms','Miss')\n",
    "    dataset['Title'] = dataset['Title'].replace('Mme','Mrs')"
   ]
  },
  {
   "cell_type": "code",
   "execution_count": 28,
   "id": "a2b5a3cb",
   "metadata": {},
   "outputs": [
    {
     "name": "stdout",
     "output_type": "stream",
     "text": [
      "____________________ Mean Survival ____________________\n",
      "    Title  Survived\n",
      "0  Master  0.575000\n",
      "1    Miss  0.699454\n",
      "2    Mlle  1.000000\n",
      "3      Mr  0.156673\n",
      "4     Mrs  0.793651\n",
      "5    Rare  0.347826\n"
     ]
    }
   ],
   "source": [
    "## Calculate the mean survival rate for each title\n",
    "myPrint(newtotal[0][['Title', 'Survived']].groupby(['Title'], as_index = False).mean(),\n",
    "        printmessage=\"Mean Survival\", hold=False)"
   ]
  },
  {
   "cell_type": "code",
   "execution_count": 29,
   "id": "d17e24a7",
   "metadata": {},
   "outputs": [
    {
     "name": "stdout",
     "output_type": "stream",
     "text": [
      "   PassengerId  Survived  Pclass  \\\n",
      "0            1         0       3   \n",
      "1            2         1       1   \n",
      "2            3         1       3   \n",
      "3            4         1       1   \n",
      "4            5         0       3   \n",
      "\n",
      "                                                Name     Sex   Age  SibSp  \\\n",
      "0                            Braund, Mr. Owen Harris    male  22.0      1   \n",
      "1  Cumings, Mrs. John Bradley (Florence Briggs Th...  female  38.0      1   \n",
      "2                             Heikkinen, Miss. Laina  female  26.0      0   \n",
      "3       Futrelle, Mrs. Jacques Heath (Lily May Peel)  female  35.0      1   \n",
      "4                           Allen, Mr. William Henry    male  35.0      0   \n",
      "\n",
      "   Parch     Fare Embarked  Title  \n",
      "0      0   7.2500        S      1  \n",
      "1      0  71.2833        C      3  \n",
      "2      0   7.9250        S      2  \n",
      "3      0  53.1000        S      3  \n",
      "4      0   8.0500        S      1  \n"
     ]
    }
   ],
   "source": [
    "## Now map the titles to numbers\n",
    "title_mapping = {'Mr': 1, 'Miss': 2, 'Mrs': 3, 'Master': 4, 'Rare': 5}\n",
    "for dataset in newtotal:\n",
    "    dataset['Title'] = dataset['Title'].map(title_mapping)\n",
    "    dataset['Title'] = dataset['Title'].fillna(0) # fill any missing entries with 0\n",
    "    dataset['Title'] = dataset['Title'].astype(int) # set type as int\n",
    "myPrint(newtotal[0].head(), hold=False)"
   ]
  },
  {
   "cell_type": "code",
   "execution_count": 30,
   "id": "a3706900",
   "metadata": {},
   "outputs": [],
   "source": [
    "## Drop the name feature now the title feature created\n",
    "newtotal2 = list(map(lambda x: x.drop(['Name', 'PassengerId'], axis = 1), newtotal))"
   ]
  },
  {
   "cell_type": "markdown",
   "id": "7b52d362",
   "metadata": {},
   "source": [
    "#### Creating Sex feature. "
   ]
  },
  {
   "cell_type": "code",
   "execution_count": 31,
   "id": "825f55da",
   "metadata": {},
   "outputs": [
    {
     "name": "stdout",
     "output_type": "stream",
     "text": [
      "   Survived  Pclass  Sex   Age  SibSp  Parch     Fare Embarked  Title\n",
      "0         0       3    0  22.0      1      0   7.2500        S      1\n",
      "1         1       1    1  38.0      1      0  71.2833        C      3\n",
      "2         1       3    1  26.0      0      0   7.9250        S      2\n",
      "3         1       1    1  35.0      1      0  53.1000        S      3\n",
      "4         0       3    0  35.0      0      0   8.0500        S      1\n"
     ]
    }
   ],
   "source": [
    "sex_mapping = {'female': 1, 'male': 0}\n",
    "for dataset in newtotal2:\n",
    "    dataset['Sex'] = dataset['Sex'].map(sex_mapping).astype(int)\n",
    "myPrint(newtotal2[0].head(), hold=False)"
   ]
  },
  {
   "cell_type": "markdown",
   "id": "4b3e292a",
   "metadata": {},
   "source": [
    "#### Creating Age feature"
   ]
  },
  {
   "cell_type": "code",
   "execution_count": 32,
   "id": "8473b7ec",
   "metadata": {},
   "outputs": [
    {
     "data": {
      "image/png": "[encoded data removed]",
      "text/plain": [
       "<Figure size 691.2x648 with 6 Axes>"
      ]
     },
     "metadata": {
      "needs_background": "light"
     },
     "output_type": "display_data"
    }
   ],
   "source": [
    "## Complete missing Age data -- First look at age data\n",
    "ageGrid = sns.FacetGrid(newtotal2[0], row='Pclass', col='Sex', height=3, aspect=1.6)\n",
    "ageGrid.map(plt.hist, 'Age', alpha=0.5, bins=20)\n",
    "myPlot()"
   ]
  },
  {
   "cell_type": "code",
   "execution_count": 33,
   "id": "18d01224",
   "metadata": {},
   "outputs": [
    {
     "name": "stdout",
     "output_type": "stream",
     "text": [
      "0   0   30.0\n",
      "0   1   21.0\n",
      "0   2   30.0\n",
      "1   0   43.0\n",
      "1   1   19.0\n",
      "1   2   34.5\n",
      "0   0   43.0\n",
      "0   1   30.5\n",
      "0   2   22.5\n",
      "1   0   28.0\n",
      "1   1   23.0\n",
      "1   2   27.5\n"
     ]
    }
   ],
   "source": [
    "## Now interpolate ages for missing values. \n",
    "## This is done either by replacing the age by the median for a given sex or by sampling from a uniform distribution \n",
    "## using the mean and std of the sex and Pclassfor dataset in newtotal2:\n",
    "for dataset in newtotal2:\n",
    "    for i in range(0,2): ## only two sex values - 0 and 1\n",
    "        for j in range(0,3): ## only 3 class values - 1, 2, 3 (add a 1 to value later)\n",
    "\n",
    "            ## Obtain the data with the corresponding sex and class. \n",
    "            ## Remove missing values to calculate the mean and standard deviation (std).\n",
    "            guess = dataset[(dataset['Sex'] == i) & (dataset['Pclass'] == j + 1)]['Age'].dropna() \n",
    "           \n",
    "            ## Fill in any missing values using an age guess from a random distribution with a mean and std from the data\n",
    "            ## Note that rather than guessing from a random distribution using the mean and std from all ages,\n",
    "            ## we instead use the mean and std from each Sex and Pclass\n",
    "            age_guess = rnd.uniform((guess.mean()-guess.std()),(guess.mean() + guess.std()))\n",
    "\n",
    "            ## Round age to nearest half a year\n",
    "            guess_val = int(age_guess/0.5 + 0.5)*0.5\n",
    "            print(i, \" \", j, \" \", guess_val)\n",
    "\n",
    "            ## Replace age with guess value if null entry\n",
    "            dataset.loc[(dataset.Age.isnull()) & (dataset.Sex == i) & (dataset.Pclass == j+1), 'Age'] = guess_val\n",
    "    \n",
    "    ## Convert ages to integer values\n",
    "    dataset['Age'] = dataset['Age'].astype(int)"
   ]
  },
  {
   "cell_type": "code",
   "execution_count": 34,
   "id": "ac62cb45",
   "metadata": {},
   "outputs": [
    {
     "name": "stdout",
     "output_type": "stream",
     "text": [
      "         AgeBand  Survived\n",
      "0  (-0.08, 16.0]  0.550000\n",
      "1   (16.0, 32.0]  0.310127\n",
      "2   (32.0, 48.0]  0.459916\n",
      "3   (48.0, 64.0]  0.434783\n",
      "4   (64.0, 80.0]  0.090909\n"
     ]
    }
   ],
   "source": [
    "## Split data into age bands and check survival based on bands\n",
    "train_ageband = newtotal2[0].copy()\n",
    "train_ageband['AgeBand'] = pd.cut(train_ageband['Age'], 5)\n",
    "myPrint(train_ageband[['AgeBand', 'Survived']].groupby(['AgeBand'], as_index = False).mean().sort_values(by = 'AgeBand', ascending = True),\n",
    "        hold=False)"
   ]
  },
  {
   "cell_type": "code",
   "execution_count": 35,
   "id": "fce17eb6",
   "metadata": {},
   "outputs": [],
   "source": [
    "## Split the total dataset into bands and then assign numerical values to each band\n",
    "for dataset in newtotal2:\n",
    "    dataset.loc[(dataset['Age'] <= 16), 'Age'] = 0\n",
    "    dataset.loc[(dataset['Age'] > 16) & (dataset['Age'] <= 32), 'Age'] = 1\n",
    "    dataset.loc[(dataset['Age'] > 32) & (dataset['Age'] <= 48), 'Age'] = 2\n",
    "    dataset.loc[(dataset['Age'] > 48) & (dataset['Age'] <= 64), 'Age'] = 3\n",
    "    dataset.loc[(dataset['Age'] > 64), 'Age'] = 4\n",
    "    \n",
    "newtotal3 = newtotal2"
   ]
  },
  {
   "cell_type": "markdown",
   "id": "004aa72e",
   "metadata": {},
   "source": [
    "#### Create new Alone Feature"
   ]
  },
  {
   "cell_type": "code",
   "execution_count": 49,
   "id": "8f830768",
   "metadata": {},
   "outputs": [],
   "source": [
    "## Create new FamilySize feature by adding siblings and parents together to person value (hence +1)\n",
    "## Then create Alone feature if FamilySize = 1\n",
    "for dataset in newtotal3:\n",
    "    dataset['FamilySize'] = dataset['SibSp'] + dataset['Parch'] + 1\n",
    "    dataset['Alone'] = 0 # first create the alone feature with a zero value\n",
    "    dataset.loc[dataset['FamilySize'] == 1, 'Alone'] = 1 # then assign to it a value of 1 if a person is alone, 0 if not"
   ]
  },
  {
   "cell_type": "code",
   "execution_count": 50,
   "id": "8728eb8f",
   "metadata": {},
   "outputs": [
    {
     "name": "stdout",
     "output_type": "stream",
     "text": [
      "   FamilySize  Survived\n",
      "3           4  0.724138\n",
      "2           3  0.578431\n",
      "1           2  0.552795\n",
      "6           7  0.333333\n",
      "0           1  0.303538\n",
      "4           5  0.200000\n",
      "5           6  0.136364\n",
      "7           8  0.000000\n",
      "8          11  0.000000\n",
      "   Alone  Survived\n",
      "0      0  0.505650\n",
      "1      1  0.303538\n"
     ]
    }
   ],
   "source": [
    "myPrint(newtotal3[0][['FamilySize', 'Survived']].groupby(['FamilySize'], as_index = False).mean().sort_values(by = 'Survived', ascending = False),\n",
    "         hold=False)\n",
    "myPrint(newtotal3[0][['Alone', 'Survived']].groupby(['Alone'], as_index = False).mean(),  \n",
    "        hold=False)"
   ]
  },
  {
   "cell_type": "code",
   "execution_count": 51,
   "id": "cb224944",
   "metadata": {},
   "outputs": [
    {
     "name": "stdout",
     "output_type": "stream",
     "text": [
      "   Survived  Pclass  Sex  Age     Fare Embarked  Title  Alone\n",
      "0         0       3    0    1   7.2500        S      1      0\n",
      "1         1       1    1    2  71.2833        C      3      0\n",
      "2         1       3    1    1   7.9250        S      2      1\n",
      "3         1       1    1    2  53.1000        S      3      0\n",
      "4         0       3    0    2   8.0500        S      1      1\n"
     ]
    }
   ],
   "source": [
    "## Remove the 'FamilySize', 'Parch' and 'SibSp' features\n",
    "newtotal4 = list(map(lambda x: x.drop(['Parch', 'SibSp', 'FamilySize'], axis = 1), newtotal3))\n",
    "myPrint(newtotal4[0].head(), hold=False)"
   ]
  },
  {
   "cell_type": "markdown",
   "id": "043e5474",
   "metadata": {},
   "source": [
    "#### Complete the Embark feature"
   ]
  },
  {
   "cell_type": "code",
   "execution_count": 37,
   "id": "67d367b9",
   "metadata": {},
   "outputs": [
    {
     "name": "stdout",
     "output_type": "stream",
     "text": [
      "  Embarked  Survived\n",
      "0        C  0.553571\n",
      "1        Q  0.389610\n",
      "2        S  0.339009\n"
     ]
    }
   ],
   "source": [
    "## Find the most common value of the embark feature and use this to fill missing values\n",
    "freq_port = newtotal4[0].Embarked.dropna().mode()[0]\n",
    "for dataset in newtotal4:\n",
    "    dataset['Embarked'] = dataset['Embarked'].fillna(freq_port)\n",
    "myPrint(newtotal4[0][['Embarked', 'Survived']].groupby(['Embarked'], as_index = False).mean().sort_values(by = 'Survived', ascending = False),\n",
    "         hold=False)"
   ]
  },
  {
   "cell_type": "code",
   "execution_count": 38,
   "id": "086df0f8",
   "metadata": {},
   "outputs": [
    {
     "name": "stdout",
     "output_type": "stream",
     "text": [
      "   Survived  Pclass  Sex  Age     Fare  Embarked  Title  Alone\n",
      "0         0       3    0    1   7.2500         0      1      0\n",
      "1         1       1    1    2  71.2833         1      3      0\n",
      "2         1       3    1    1   7.9250         0      2      1\n",
      "3         1       1    1    2  53.1000         0      3      0\n",
      "4         0       3    0    2   8.0500         0      1      1\n"
     ]
    }
   ],
   "source": [
    "## Map the embark feature to a numerical value\n",
    "embarked_mapping = {'S': 0, 'C': 1, 'Q': 2}\n",
    "for dataset in newtotal4:\n",
    "    dataset['Embarked'] = dataset['Embarked'].map(embarked_mapping)\n",
    "myPrint(newtotal4[0].head(), hold=False)"
   ]
  },
  {
   "cell_type": "markdown",
   "id": "74b0aee5",
   "metadata": {},
   "source": [
    "#### Complete the Fare feature"
   ]
  },
  {
   "cell_type": "code",
   "execution_count": 39,
   "id": "d43cc9df",
   "metadata": {},
   "outputs": [
    {
     "name": "stdout",
     "output_type": "stream",
     "text": [
      "   Survived  Pclass  Sex  Age     Fare  Embarked  Title  Alone\n",
      "0         0       3    0    1   7.2500         0      1      0\n",
      "1         1       1    1    2  71.2833         1      3      0\n",
      "2         1       3    1    1   7.9250         0      2      1\n",
      "3         1       1    1    2  53.1000         0      3      0\n",
      "4         0       3    0    2   8.0500         0      1      1\n"
     ]
    }
   ],
   "source": [
    "## Fill missing values with the median Fare value\n",
    "for dataset in newtotal4:\n",
    "    dataset['Fare'] = dataset['Fare'].fillna(dataset['Fare'].dropna().median())\n",
    "myPrint(newtotal4[0].head(), hold=False)"
   ]
  },
  {
   "cell_type": "code",
   "execution_count": 40,
   "id": "b9d2c22c",
   "metadata": {},
   "outputs": [
    {
     "name": "stdout",
     "output_type": "stream",
     "text": [
      "          Fareband  Survived\n",
      "0   (-0.001, 7.91]  0.197309\n",
      "1   (7.91, 14.454]  0.303571\n",
      "2   (14.454, 31.0]  0.454955\n",
      "3  (31.0, 512.329]  0.581081\n"
     ]
    }
   ],
   "source": [
    "## Create Fare band and convert to numerical values - first look at bands and survival rates\n",
    "train_testband = newtotal4[0].copy()\n",
    "train_testband['Fareband'] = pd.qcut(train_testband['Fare'], 4)\n",
    "myPrint(train_testband[['Fareband', 'Survived']].groupby(['Fareband'], as_index = False).mean().sort_values(by = 'Fareband', ascending = True),\n",
    "         hold=False)"
   ]
  },
  {
   "cell_type": "code",
   "execution_count": 41,
   "id": "f89952e7",
   "metadata": {},
   "outputs": [],
   "source": [
    "## Create the fare bands and map to numerical values\n",
    "for dataset in newtotal4:\n",
    "    dataset.loc[(dataset['Fare'] <= 7.91), 'Fare'] = 0\n",
    "    dataset.loc[(dataset['Fare'] > 7.91) & (dataset['Fare'] <= 14.454), 'Fare'] = 1\n",
    "    dataset.loc[(dataset['Fare'] > 14.454) & (dataset['Fare'] <= 31), 'Fare'] = 2\n",
    "    dataset.loc[(dataset['Fare'] > 31), 'Fare'] = 3\n",
    "    dataset['Fare'] = dataset['Fare'].astype(int)\n",
    "\n",
    "newtotal5 = newtotal4"
   ]
  },
  {
   "cell_type": "code",
   "execution_count": 42,
   "id": "0d6ce295",
   "metadata": {},
   "outputs": [
    {
     "name": "stdout",
     "output_type": "stream",
     "text": [
      "   Survived  Pclass  Sex  Age  Fare  Embarked  Title  Alone\n",
      "0         0       3    0    1     0         0      1      0\n",
      "1         1       1    1    2     3         1      3      0\n",
      "2         1       3    1    1     1         0      2      1\n",
      "3         1       1    1    2     3         0      3      0\n",
      "4         0       3    0    2     1         0      1      1\n",
      "   Pclass  Sex  Age  Fare  Embarked  Title  Alone\n",
      "0       3    0    2     0         2      1      1\n",
      "1       3    1    2     0         0      3      0\n",
      "2       2    0    3     1         2      1      1\n",
      "3       3    0    1     1         0      1      1\n",
      "4       3    1    1     1         0      3      0\n"
     ]
    }
   ],
   "source": [
    "myPrint(newtotal5[0].head(), hold=False)\n",
    "myPrint(newtotal5[1].head(), hold=False)"
   ]
  },
  {
   "cell_type": "markdown",
   "id": "88e857e2",
   "metadata": {},
   "source": [
    "### - Train the model - "
   ]
  },
  {
   "cell_type": "markdown",
   "id": "59722670",
   "metadata": {},
   "source": [
    "#### Remove the labels from the train dataset"
   ]
  },
  {
   "cell_type": "code",
   "execution_count": 43,
   "id": "61f65ee0",
   "metadata": {},
   "outputs": [],
   "source": [
    "X_train = newtotal5[0].drop('Survived', axis = 1)\n",
    "Y_train = newtotal5[0]['Survived']\n",
    "X_test = newtotal5[1]"
   ]
  },
  {
   "cell_type": "markdown",
   "id": "94f75e7b",
   "metadata": {},
   "source": [
    "#### Build the model"
   ]
  },
  {
   "cell_type": "code",
   "execution_count": 44,
   "id": "c8f8e409",
   "metadata": {},
   "outputs": [],
   "source": [
    "modelType = 'RandomForest'\n",
    "\n",
    "if modelType == 'RandomForest':\n",
    "    ## Use Random Forest for training model\n",
    "    model = RandomForestClassifier(n_estimators=100, max_depth=3, random_state=2)\n",
    "elif modelType == 'XGBoost':\n",
    "    ## Use XGBoost for training model\n",
    "    model = xgb.XGBRegressor(objective=\"binary:logistic\", random_state=42)\n",
    "else:\n",
    "    myPrint(\"Model not chosen\")\n",
    "    sys.exit()"
   ]
  },
  {
   "cell_type": "markdown",
   "id": "c55c316d",
   "metadata": {},
   "source": [
    "#### Fit the model"
   ]
  },
  {
   "cell_type": "code",
   "execution_count": 45,
   "id": "022e2687",
   "metadata": {},
   "outputs": [
    {
     "data": {
      "text/plain": [
       "RandomForestClassifier(max_depth=3, random_state=2)"
      ]
     },
     "execution_count": 45,
     "metadata": {},
     "output_type": "execute_result"
    }
   ],
   "source": [
    "model.fit(X_train, Y_train)"
   ]
  },
  {
   "cell_type": "markdown",
   "id": "8e724ba8",
   "metadata": {},
   "source": [
    "#### Predicted output"
   ]
  },
  {
   "cell_type": "code",
   "execution_count": 46,
   "id": "2d166347",
   "metadata": {},
   "outputs": [],
   "source": [
    "Y_pred = model.predict(X_test)\n",
    "predictions = [round(value) for value in Y_pred]"
   ]
  },
  {
   "cell_type": "markdown",
   "id": "3b5ff3f7",
   "metadata": {},
   "source": [
    "#### Assesment of model"
   ]
  },
  {
   "cell_type": "code",
   "execution_count": 47,
   "id": "20ef6b39",
   "metadata": {},
   "outputs": [
    {
     "name": "stdout",
     "output_type": "stream",
     "text": [
      "79.91\n"
     ]
    }
   ],
   "source": [
    "Y_pred_train = model.predict(X_train)\n",
    "predictions_train = [round(value) for value in Y_pred_train]\n",
    "score = accuracy_score(Y_train, predictions_train)\n",
    "\n",
    "accuracy_model = round(score*100,2)\n",
    "myPrint(accuracy_model, hold=False)"
   ]
  },
  {
   "cell_type": "markdown",
   "id": "3e931fb6",
   "metadata": {},
   "source": [
    "### - Create a submission file for the Kaggle competition -"
   ]
  },
  {
   "cell_type": "code",
   "execution_count": 48,
   "id": "042ae1ac",
   "metadata": {},
   "outputs": [],
   "source": [
    "## Entries are passenger ID and if they survived (0/1 for deceased/survived)\n",
    "submission = pd.DataFrame({\n",
    "        \"PassengerId\": test[\"PassengerId\"],\n",
    "        \"Survived\": predictions\n",
    "    })\n",
    "submission.to_csv('submission.csv', index=False)"
   ]
  }
 ],
 "metadata": {
  "kernelspec": {
   "display_name": "Python 3 (ipykernel)",
   "language": "python",
   "name": "python3"
  },
  "language_info": {
   "codemirror_mode": {
    "name": "ipython",
    "version": 3
   },
   "file_extension": ".py",
   "mimetype": "text/x-python",
   "name": "python",
   "nbconvert_exporter": "python",
   "pygments_lexer": "ipython3",
   "version": "3.9.7"
  }
 },
 "nbformat": 4,
 "nbformat_minor": 5
}
